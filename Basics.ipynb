{
 "cells": [
  {
   "cell_type": "markdown",
   "metadata": {
    "collapsed": true
   },
   "source": [
    "# Exploring Hacker News Posts"
   ]
  },
  {
   "cell_type": "markdown",
   "metadata": {},
   "source": [
    "## Introduction "
   ]
  },
  {
   "cell_type": "markdown",
   "metadata": {},
   "source": [
    "In this project, we'll work with a data set of submissions to popular technology site [Hacker News](https://news.ycombinator.com/).\n",
    "\n",
    "Hacker News is a site started by the startup incubator Y Combinator, where user-submitted stories (known as \"posts\") are voted and commented upon, similar to reddit. Hacker News is extremely popular in technology and startup circles, and posts that make it to the top of Hacker News' listings can get hundreds of thousands of visitors as a result.\n",
    "\n",
    "You can find the [data set here](https://www.kaggle.com/hacker-news/hacker-news-posts), but note that it has been reduced from almost 300,000 rows to approximately 20,000 rows by removing all submissions that did not receive any comments, and then randomly sampling from the remaining submissions. \n",
    "\n",
    "Below are descriptions of the columns:\n",
    "\n",
    "`id`: The unique identifier from Hacker News for the post\n",
    "\n",
    "`title`: The title of the post\n",
    "\n",
    "`url`: The URL that the posts links to, if it the post has a URL\n",
    "\n",
    "`num_points`: The number of points the post acquired, calculated as the total number of upvotes minus the total number of downvotes\n",
    "\n",
    "`num_comments`: The number of comments that were made on the post\n",
    "\n",
    "`author`: The username of the person who submitted the post\n",
    "\n",
    "`created_at`: The date and time at which the post was submitted\n",
    "\n",
    "We're specifically interested in posts whose titles begin with either `Ask HN` or `Show HN`. Users submit Ask HN posts to ask the Hacker News community a specific question. \n",
    "\n",
    "Below are a couple examples:\n",
    "\n",
    "`Ask HN: How to improve my personal website?\n",
    "Ask HN: Am I the only one outraged by Twitter shutting down share counts?\n",
    "Ask HN: Aby recent changes to CSS that broke mobile?`\n",
    "\n",
    "Likewise, users submit Show HN posts to show the Hacker News community a project, product, or just generally something interesting. \n",
    "\n",
    "Below are a couple of examples:\n",
    "\n",
    "`Show HN: Wio Link  ESP8266 Based Web of Things Hardware Development Platform'\n",
    "Show HN: Something pointless I made\n",
    "Show HN: Shanhu.io, a programming playground powered by e8vm`\n",
    "\n",
    "\n",
    "**We'll compare these two types of posts to determine the following:**\n",
    "\n",
    "* Do Ask HN or Show HN receive more comments on average?\n",
    "* Do posts created at a certain time receive more comments on average?"
   ]
  },
  {
   "cell_type": "code",
   "execution_count": 1,
   "metadata": {},
   "outputs": [],
   "source": [
    "from csv import reader"
   ]
  },
  {
   "cell_type": "code",
   "execution_count": 2,
   "metadata": {},
   "outputs": [],
   "source": [
    "# Read the csv file\n",
    "opened_file = open('hacker_news.csv')\n",
    "read_file = reader(opened_file)\n",
    "hn = list(read_file)\n",
    "hn_columns = hn[0]\n",
    "hn = hn[1:]"
   ]
  },
  {
   "cell_type": "code",
   "execution_count": 3,
   "metadata": {},
   "outputs": [
    {
     "data": {
      "text/plain": [
       "['id', 'title', 'url', 'num_points', 'num_comments', 'author', 'created_at']"
      ]
     },
     "execution_count": 3,
     "metadata": {},
     "output_type": "execute_result"
    }
   ],
   "source": [
    "# show the columns\n",
    "hn_columns"
   ]
  },
  {
   "cell_type": "code",
   "execution_count": 4,
   "metadata": {},
   "outputs": [
    {
     "data": {
      "text/plain": [
       "[['12224879',\n",
       "  'Interactive Dynamic Video',\n",
       "  'http://www.interactivedynamicvideo.com/',\n",
       "  '386',\n",
       "  '52',\n",
       "  'ne0phyte',\n",
       "  '8/4/2016 11:52'],\n",
       " ['10975351',\n",
       "  'How to Use Open Source and Shut the Fuck Up at the Same Time',\n",
       "  'http://hueniverse.com/2016/01/26/how-to-use-open-source-and-shut-the-fuck-up-at-the-same-time/',\n",
       "  '39',\n",
       "  '10',\n",
       "  'josep2',\n",
       "  '1/26/2016 19:30'],\n",
       " ['11964716',\n",
       "  \"Florida DJs May Face Felony for April Fools' Water Joke\",\n",
       "  'http://www.thewire.com/entertainment/2013/04/florida-djs-april-fools-water-joke/63798/',\n",
       "  '2',\n",
       "  '1',\n",
       "  'vezycash',\n",
       "  '6/23/2016 22:20'],\n",
       " ['11919867',\n",
       "  'Technology ventures: From Idea to Enterprise',\n",
       "  'https://www.amazon.com/Technology-Ventures-Enterprise-Thomas-Byers/dp/0073523429',\n",
       "  '3',\n",
       "  '1',\n",
       "  'hswarna',\n",
       "  '6/17/2016 0:01'],\n",
       " ['10301696',\n",
       "  'Note by Note: The Making of Steinway L1037 (2007)',\n",
       "  'http://www.nytimes.com/2007/11/07/movies/07stein.html?_r=0',\n",
       "  '8',\n",
       "  '2',\n",
       "  'walterbell',\n",
       "  '9/30/2015 4:12']]"
      ]
     },
     "execution_count": 4,
     "metadata": {},
     "output_type": "execute_result"
    }
   ],
   "source": [
    "# show the first five rows\n",
    "hn[:5]"
   ]
  },
  {
   "cell_type": "markdown",
   "metadata": {},
   "source": [
    "## Extracting Ask HN and Show HN Posts"
   ]
  },
  {
   "cell_type": "code",
   "execution_count": 5,
   "metadata": {},
   "outputs": [
    {
     "name": "stdout",
     "output_type": "stream",
     "text": [
      "The Number of ask posts: 1744\n",
      "The Number of show posts: 1162\n",
      "The number of other posts: 17194\n"
     ]
    }
   ],
   "source": [
    "# create three empty lists \n",
    "ask_posts = []\n",
    "show_posts = []\n",
    "other_posts = []\n",
    "\n",
    "# iterate over the hn  \n",
    "for row in hn:\n",
    "    # save the title in the title variable\n",
    "    title = row[1]\n",
    "    # If the lowercase version of title starts with ask hn, append the row to ask_posts.\n",
    "    if title.lower().startswith('ask hn'):\n",
    "        ask_posts.append(row)\n",
    "    # Else if the lowercase version of title starts with show hn, append the row to show_posts.\n",
    "    elif title.lower().startswith('show hn'):\n",
    "        show_posts.append(row)\n",
    "    # Else append to other_posts.\n",
    "    else:\n",
    "        other_posts.append(row)\n",
    "\n",
    "print('The Number of ask posts: {}'.format(len(ask_posts)))\n",
    "print('The Number of show posts: {}'.format(len(show_posts)))\n",
    "print('The number of other posts: {}'.format(len(other_posts)))      "
   ]
  },
  {
   "cell_type": "markdown",
   "metadata": {},
   "source": [
    "## Calculating the Average Number of Comments for Ask HN and Show HN Posts"
   ]
  },
  {
   "cell_type": "code",
   "execution_count": 6,
   "metadata": {},
   "outputs": [
    {
     "name": "stdout",
     "output_type": "stream",
     "text": [
      "Average number of ask comments: 14.038417431192661\n",
      "Average number of show comments: 10.31669535283993\n"
     ]
    }
   ],
   "source": [
    "# initialize the counter\n",
    "total_ask_comments = 0 \n",
    "total_show_comments = 0 \n",
    "\n",
    "# iterate over ask posts and calculate the number of comments\n",
    "for post in ask_posts:\n",
    "    num_comments = float(post[4])\n",
    "    total_ask_comments += num_comments \n",
    "\n",
    "# iterate over show posts and calculate the number of comments\n",
    "for post in show_posts:\n",
    "    num_comments = float(post[4])\n",
    "    total_show_comments += num_comments\n",
    "    \n",
    "# calculate the average number of comments for ask posts \n",
    "average_ask_comments = total_ask_comments / len(ask_posts)\n",
    "\n",
    "# calculate the average number of comments for show posts \n",
    "average_show_comments = total_show_comments / len(show_posts)\n",
    "\n",
    "print('Average number of ask comments: {}'.format(average_ask_comments))\n",
    "print('Average number of show comments: {}'.format(average_show_comments))"
   ]
  },
  {
   "cell_type": "markdown",
   "metadata": {},
   "source": [
    "On Average `Ask HN` posts gets more comments than the `Show HN` posts. "
   ]
  },
  {
   "cell_type": "markdown",
   "metadata": {},
   "source": [
    "## Finding the Amount of Ask Posts and Comments by Hour Created"
   ]
  },
  {
   "cell_type": "code",
   "execution_count": 7,
   "metadata": {},
   "outputs": [
    {
     "data": {
      "text/plain": [
       "[['8/16/2016 9:55', '6'],\n",
       " ['11/22/2015 13:43', '29'],\n",
       " ['5/2/2016 10:14', '1'],\n",
       " ['8/2/2016 14:20', '3'],\n",
       " ['10/15/2015 16:38', '17']]"
      ]
     },
     "execution_count": 7,
     "metadata": {},
     "output_type": "execute_result"
    }
   ],
   "source": [
    "# Import the datatime module\n",
    "import datetime as dt \n",
    "\n",
    "# create an empty list \n",
    "result_list = []\n",
    "\n",
    "# iterate over ask posts \n",
    "for post in ask_posts:\n",
    "    # append the created at column value and number of comments value\n",
    "    result_list.append([post[6], post[4]])\n",
    "result_list[:5]"
   ]
  },
  {
   "cell_type": "code",
   "execution_count": 8,
   "metadata": {},
   "outputs": [],
   "source": [
    "# create two empty dictionaries \n",
    "counts_by_hour = {}\n",
    "comments_by_hour = {}\n",
    "\n",
    "# iterate over the result list\n",
    "for item in result_list:\n",
    "    # select the date \n",
    "    date_str = item[0]\n",
    "    # create a datetime object \n",
    "    date_obj = dt.datetime.strptime(date_str, \"%m/%d/%Y %H:%M\")\n",
    "    # Extract the hour from the dattime obj\n",
    "    hour = date_obj.hour\n",
    "    # If the hour isn't a key in counts_by_hour\n",
    "    if hour not in counts_by_hour:\n",
    "        # Create the key in counts_by_hour and set it equal to 1\n",
    "        counts_by_hour[hour] = 1\n",
    "        # Create the key in comments_by_hour and set it equal to the comment number\n",
    "        comments_by_hour[hour] = int(item[1])\n",
    "        \n",
    "    else: # If the hour is already a key in counts_by_hour\n",
    "        # Increment the value in counts_by_hour by 1\n",
    "        counts_by_hour[hour] += 1 \n",
    "        # Increment the value in comments_by_hour by the comment number.\n",
    "        comments_by_hour[hour] += int(item[1])\n",
    "           "
   ]
  },
  {
   "cell_type": "code",
   "execution_count": 9,
   "metadata": {},
   "outputs": [
    {
     "data": {
      "text/plain": [
       "{9: 45,\n",
       " 13: 85,\n",
       " 10: 59,\n",
       " 14: 107,\n",
       " 16: 108,\n",
       " 23: 68,\n",
       " 12: 73,\n",
       " 17: 100,\n",
       " 15: 116,\n",
       " 21: 109,\n",
       " 20: 80,\n",
       " 2: 58,\n",
       " 18: 109,\n",
       " 3: 54,\n",
       " 5: 46,\n",
       " 19: 110,\n",
       " 1: 60,\n",
       " 22: 71,\n",
       " 8: 48,\n",
       " 4: 47,\n",
       " 0: 55,\n",
       " 6: 44,\n",
       " 7: 34,\n",
       " 11: 58}"
      ]
     },
     "execution_count": 9,
     "metadata": {},
     "output_type": "execute_result"
    }
   ],
   "source": [
    "counts_by_hour"
   ]
  },
  {
   "cell_type": "code",
   "execution_count": 10,
   "metadata": {},
   "outputs": [
    {
     "data": {
      "text/plain": [
       "{9: 251,\n",
       " 13: 1253,\n",
       " 10: 793,\n",
       " 14: 1416,\n",
       " 16: 1814,\n",
       " 23: 543,\n",
       " 12: 687,\n",
       " 17: 1146,\n",
       " 15: 4477,\n",
       " 21: 1745,\n",
       " 20: 1722,\n",
       " 2: 1381,\n",
       " 18: 1439,\n",
       " 3: 421,\n",
       " 5: 464,\n",
       " 19: 1188,\n",
       " 1: 683,\n",
       " 22: 479,\n",
       " 8: 492,\n",
       " 4: 337,\n",
       " 0: 447,\n",
       " 6: 397,\n",
       " 7: 267,\n",
       " 11: 641}"
      ]
     },
     "execution_count": 10,
     "metadata": {},
     "output_type": "execute_result"
    }
   ],
   "source": [
    "comments_by_hour"
   ]
  },
  {
   "cell_type": "markdown",
   "metadata": {},
   "source": [
    "# Calculating the Average Number of Comments for Ask HN Posts by Hour"
   ]
  },
  {
   "cell_type": "code",
   "execution_count": 11,
   "metadata": {},
   "outputs": [
    {
     "data": {
      "text/plain": [
       "[[9, 5.58],\n",
       " [13, 14.74],\n",
       " [10, 13.44],\n",
       " [14, 13.23],\n",
       " [16, 16.8],\n",
       " [23, 7.99],\n",
       " [12, 9.41],\n",
       " [17, 11.46],\n",
       " [15, 38.59],\n",
       " [21, 16.01],\n",
       " [20, 21.52],\n",
       " [2, 23.81],\n",
       " [18, 13.2],\n",
       " [3, 7.8],\n",
       " [5, 10.09],\n",
       " [19, 10.8],\n",
       " [1, 11.38],\n",
       " [22, 6.75],\n",
       " [8, 10.25],\n",
       " [4, 7.17],\n",
       " [0, 8.13],\n",
       " [6, 9.02],\n",
       " [7, 7.85],\n",
       " [11, 11.05]]"
      ]
     },
     "execution_count": 11,
     "metadata": {},
     "output_type": "execute_result"
    }
   ],
   "source": [
    "# create an empty list \n",
    "avg_by_hour = []\n",
    "\n",
    "# iterate over the comments_by_hour dict\n",
    "for hour in comments_by_hour:\n",
    "    # append the hour and the average comments in that hour\n",
    "    avg_by_hour.append([hour, round((comments_by_hour[hour] / counts_by_hour[hour]), 2)])\n",
    "    \n",
    "# print the result \n",
    "avg_by_hour"
   ]
  },
  {
   "cell_type": "markdown",
   "metadata": {},
   "source": [
    "## Sorting and Printing Values from a List of Lists"
   ]
  },
  {
   "cell_type": "code",
   "execution_count": 12,
   "metadata": {},
   "outputs": [
    {
     "data": {
      "text/plain": [
       "[[5.58, 9],\n",
       " [14.74, 13],\n",
       " [13.44, 10],\n",
       " [13.23, 14],\n",
       " [16.8, 16],\n",
       " [7.99, 23],\n",
       " [9.41, 12],\n",
       " [11.46, 17],\n",
       " [38.59, 15],\n",
       " [16.01, 21],\n",
       " [21.52, 20],\n",
       " [23.81, 2],\n",
       " [13.2, 18],\n",
       " [7.8, 3],\n",
       " [10.09, 5],\n",
       " [10.8, 19],\n",
       " [11.38, 1],\n",
       " [6.75, 22],\n",
       " [10.25, 8],\n",
       " [7.17, 4],\n",
       " [8.13, 0],\n",
       " [9.02, 6],\n",
       " [7.85, 7],\n",
       " [11.05, 11]]"
      ]
     },
     "execution_count": 12,
     "metadata": {},
     "output_type": "execute_result"
    }
   ],
   "source": [
    "# Create an empty list\n",
    "swap_avg_by_hour = []\n",
    "\n",
    "# iterate over the avg_by_hour and swap the values and \n",
    "# append it in swap_avg_by_hour\n",
    "\n",
    "for item in avg_by_hour:\n",
    "    swap_avg_by_hour.append([item[1], item[0]])\n",
    "    \n",
    "# print the values \n",
    "swap_avg_by_hour"
   ]
  },
  {
   "cell_type": "code",
   "execution_count": 13,
   "metadata": {},
   "outputs": [],
   "source": [
    "# sort the swap_avg_by_hour in descending order\n",
    "# and assign to sorted_swap\n",
    "sorted_swap = sorted(swap_avg_by_hour, reverse=True)"
   ]
  },
  {
   "cell_type": "code",
   "execution_count": 14,
   "metadata": {},
   "outputs": [
    {
     "name": "stdout",
     "output_type": "stream",
     "text": [
      "Top 5 Hours for 'Ask HN' Comments\n",
      "15:00: 38.59 average comments per post\n",
      "02:00: 23.81 average comments per post\n",
      "20:00: 21.52 average comments per post\n",
      "16:00: 16.80 average comments per post\n",
      "21:00: 16.01 average comments per post\n"
     ]
    }
   ],
   "source": [
    "# print the the 5 hours with the highest average comments.\n",
    "print(\"Top 5 Hours for 'Ask HN' Comments\")\n",
    "for avg, hr in sorted_swap[:5]:\n",
    "    print(\n",
    "        \"{}: {:.2f} average comments per post\".format(\n",
    "            dt.datetime.strptime(str(hr), \"%H\").strftime(\"%H:%M\"),avg\n",
    "        )\n",
    "    )"
   ]
  },
  {
   "cell_type": "markdown",
   "metadata": {},
   "source": [
    "The `Ask HN` posts receives highest average comments at `15:00(3:00 pm est)` which is `38.59`, followed by at `2:00(2:00 am est)` which is 23.81. "
   ]
  },
  {
   "cell_type": "markdown",
   "metadata": {},
   "source": [
    "# Conclusion"
   ]
  },
  {
   "cell_type": "markdown",
   "metadata": {},
   "source": [
    "Based on our analysis, to maximize the amount of comments a post receives, we'd recommend the post be categorized as ask post and created between 15:00 and 16:00 (3:00 pm est - 4:00 pm est). \n",
    "\n",
    "However, it should be noted that the data set we analyzed excluded posts without any comments. Given that, it's more accurate to say that of the posts that received comments, ask posts received more comments on average and ask posts created between 15:00 and 16:00 (3:00 pm est - 4:00 pm est) received the most comments on average."
   ]
  }
 ],
 "metadata": {
  "kernelspec": {
   "display_name": "Python 3",
   "language": "python",
   "name": "python3"
  },
  "language_info": {
   "codemirror_mode": {
    "name": "ipython",
    "version": 3
   },
   "file_extension": ".py",
   "mimetype": "text/x-python",
   "name": "python",
   "nbconvert_exporter": "python",
   "pygments_lexer": "ipython3",
   "version": "3.7.3"
  },
  "varInspector": {
   "cols": {
    "lenName": 16,
    "lenType": 16,
    "lenVar": 40
   },
   "kernels_config": {
    "python": {
     "delete_cmd_postfix": "",
     "delete_cmd_prefix": "del ",
     "library": "var_list.py",
     "varRefreshCmd": "print(var_dic_list())"
    },
    "r": {
     "delete_cmd_postfix": ") ",
     "delete_cmd_prefix": "rm(",
     "library": "var_list.r",
     "varRefreshCmd": "cat(var_dic_list()) "
    }
   },
   "types_to_exclude": [
    "module",
    "function",
    "builtin_function_or_method",
    "instance",
    "_Feature"
   ],
   "window_display": false
  }
 },
 "nbformat": 4,
 "nbformat_minor": 2
}
